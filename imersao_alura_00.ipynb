{
  "nbformat": 4,
  "nbformat_minor": 0,
  "metadata": {
    "colab": {
      "name": "imersao-alura-00.ipynb",
      "provenance": [],
      "collapsed_sections": [],
      "authorship_tag": "ABX9TyM9DO9stI/M0QI2Y0rIq6of",
      "include_colab_link": true
    },
    "kernelspec": {
      "name": "python3",
      "display_name": "Python 3"
    }
  },
  "cells": [
    {
      "cell_type": "markdown",
      "metadata": {
        "id": "view-in-github",
        "colab_type": "text"
      },
      "source": [
        "<a href=\"https://colab.research.google.com/github/joaomarcuslf2/data-science-studies/blob/main/imersao_alura_00.ipynb\" target=\"_parent\"><img src=\"https://colab.research.google.com/assets/colab-badge.svg\" alt=\"Open In Colab\"/></a>"
      ]
    },
    {
      "cell_type": "code",
      "metadata": {
        "id": "bHs5aNI0mgra",
        "outputId": "54e3fa87-48d4-47d5-d65c-b118e9eb6729",
        "colab": {
          "base_uri": "https://localhost:8080/",
          "height": 826
        }
      },
      "source": [
        "import requests\n",
        "import pandas as pd\n",
        "\n",
        "dados = requests.get(\"https://raw.githubusercontent.com/alura-cursos/imersao-dados-2-2020/master/MICRODADOS_ENEM_2019_SAMPLE_43278.csv\")\n",
        "arquivo = open(\"teste.csv\",\"w+\")\n",
        "arquivo.write(dados.text)\n",
        "arquivo.close()\n",
        "\n",
        "df = pd.read_csv(\"teste.csv\")\n",
        "\n",
        "df.head()\n",
        "\n",
        "media1 = df['NU_IDADE'].mean()\n",
        "soma1 = df['NU_IDADE'].sum()\n",
        "maximo1 = df['NU_IDADE'].max()\n",
        "minimo1 = df['NU_IDADE'].min()\n",
        "contagem1 = df['NU_IDADE'].count()\n",
        "mediana1 = df['NU_IDADE'].median() \n",
        "padrao1 = df['NU_IDADE'].std() \n",
        "variancia1 = df['NU_IDADE'].var()  \n",
        "\n",
        "print ('Média Idade: ' + str(media1))\n",
        "print ('Som of idades: ' + str(soma1))\n",
        "print ('Máximo Idade: ' + str(maximo1))\n",
        "print ('Mínimo Idade: ' + str(minimo1))\n",
        "print ('Contagem de idades: ' + str(contagem1))\n",
        "print ('Mediana Idade: ' + str(mediana1))\n",
        "print ('adrão de idades: ' + str(padrao1))\n",
        "print ('Variância de idades: ' + str(variancia1))\n",
        "\n",
        "agrupar_soma1 = df.groupby(['CO_MUNICIPIO_RESIDENCIA']).sum() \n",
        "agrupar_contagem1 = df.groupby(['CO_MUNICIPIO_RESIDENCIA']).count()\n",
        "\n",
        "print ('Soma de valores, agrupados por código municipio: ' + str(agrupar_soma1))\n",
        "print ('Contagem de valores, agrupados por código municipio: ' + str(agrupar_contagem1))\n",
        "\n",
        "df['NU_IDADE'].describe()\n"
      ],
      "execution_count": 1,
      "outputs": [
        {
          "output_type": "stream",
          "text": [
            "Média Idade: 22.094355471816613\n",
            "Som of idades: 2814379\n",
            "Máximo Idade: 82\n",
            "Mínimo Idade: 13\n",
            "Contagem de idades: 127380\n",
            "Mediana Idade: 19.0\n",
            "adrão de idades: 7.498707258764504\n",
            "Variância de idades: 56.230610552647455\n",
            "Soma de valores, agrupados por código municipio:                             NU_INSCRICAO   NU_ANO  ...  NU_NOTA_REDACAO  Q005\n",
            "CO_MUNICIPIO_RESIDENCIA                            ...                       \n",
            "1100015                    2660044712507    28266  ...           6000.0    61\n",
            "1100023                   15200289256340   161520  ...          26780.0   272\n",
            "1100031                     380005909959     4038  ...            480.0     7\n",
            "1100049                   18810329678841   199881  ...          41920.0   343\n",
            "1100056                    1330029355241    14133  ...           3460.0    26\n",
            "...                                  ...      ...  ...              ...   ...\n",
            "5221858                   20900414549279   222090  ...          39080.0   420\n",
            "5222005                    1140029794302    12114  ...           2780.0    26\n",
            "5222054                     570011828925     6057  ...           1660.0    12\n",
            "5222203                     190004105028     2019  ...            520.0     5\n",
            "5300108                  457529241510488  4861752  ...        1051360.0  9287\n",
            "\n",
            "[5133 rows x 94 columns]\n",
            "Contagem de valores, agrupados por código municipio:                          NU_INSCRICAO  NU_ANO  ...  Q024  Q025\n",
            "CO_MUNICIPIO_RESIDENCIA                        ...            \n",
            "1100015                            14      14  ...    14    14\n",
            "1100023                            80      80  ...    80    80\n",
            "1100031                             2       2  ...     2     2\n",
            "1100049                            99      99  ...    99    99\n",
            "1100056                             7       7  ...     7     7\n",
            "...                               ...     ...  ...   ...   ...\n",
            "5221858                           110     110  ...   110   110\n",
            "5222005                             6       6  ...     6     6\n",
            "5222054                             3       3  ...     3     3\n",
            "5222203                             1       1  ...     1     1\n",
            "5300108                          2408    2408  ...  2408  2408\n",
            "\n",
            "[5133 rows x 135 columns]\n"
          ],
          "name": "stdout"
        },
        {
          "output_type": "execute_result",
          "data": {
            "text/plain": [
              "count    127380.000000\n",
              "mean         22.094355\n",
              "std           7.498707\n",
              "min          13.000000\n",
              "25%          18.000000\n",
              "50%          19.000000\n",
              "75%          24.000000\n",
              "max          82.000000\n",
              "Name: NU_IDADE, dtype: float64"
            ]
          },
          "metadata": {
            "tags": []
          },
          "execution_count": 1
        }
      ]
    }
  ]
}