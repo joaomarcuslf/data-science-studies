{
  "nbformat": 4,
  "nbformat_minor": 0,
  "metadata": {
    "colab": {
      "name": "imersao-alura-02.ipynb",
      "provenance": [],
      "private_outputs": true,
      "authorship_tag": "ABX9TyORxh8G7eI9Hv713lqaxvpP",
      "include_colab_link": true
    },
    "kernelspec": {
      "name": "python3",
      "display_name": "Python 3"
    }
  },
  "cells": [
    {
      "cell_type": "markdown",
      "metadata": {
        "id": "view-in-github",
        "colab_type": "text"
      },
      "source": [
        "<a href=\"https://colab.research.google.com/github/joaomarcuslf2/data-science-studies/blob/main/imersao_alura_02.ipynb\" target=\"_parent\"><img src=\"https://colab.research.google.com/assets/colab-badge.svg\" alt=\"Open In Colab\"/></a>"
      ]
    },
    {
      "cell_type": "code",
      "metadata": {
        "id": "xTVLYq55RKBi"
      },
      "source": [
        "import seaborn as sns\n",
        "import matplotlib.pyplot as plt\n",
        "import pandas as pd\n",
        "\n",
        "fonte = \"https://github.com/alura-cursos/imersao-dados-2-2020/blob/master/MICRODADOS_ENEM_2019_SAMPLE_43278.csv?raw=true\"\n",
        "df = pd.read_csv(fonte)\n",
        "subjects = [\"NU_NOTA_CN\",\"NU_NOTA_CH\",\"NU_NOTA_MT\",\"NU_NOTA_LC\",\"NU_NOTA_REDACAO\"]"
      ],
      "execution_count": null,
      "outputs": []
    },
    {
      "cell_type": "markdown",
      "metadata": {
        "id": "i4iKJA0SWwsv"
      },
      "source": [
        "Desafio 01: Criar uma função que facilite plotar um gráfico"
      ]
    },
    {
      "cell_type": "code",
      "metadata": {
        "id": "Qx0F_i5hWuMd"
      },
      "source": [
        "def create_plot(data, x, y, title = \"\", figsize = (10, 6), order = []):\n",
        "  plt.figure(figsize=figsize)\n",
        "  if (len(order) > 1):\n",
        "    sns.boxplot(x=x, y=y, data=data, order=order)\n",
        "  else:\n",
        "    sns.boxplot(x=x, y=y, data=data)\n",
        "  plt.title(title)\n",
        "\n",
        "def plot_with_x_q006( y, title = \"\", order = []):\n",
        "  return create_plot(df, \"Q006\", y, title, (10, 6), order)\n"
      ],
      "execution_count": null,
      "outputs": []
    },
    {
      "cell_type": "code",
      "metadata": {
        "id": "HzqpEm1lTFby"
      },
      "source": [
        "plot_with_x_q006(\n",
        "    \"NU_NOTA_MT\", \n",
        "    \"Boxplot das notas de matemática pela renda\",\n",
        "  )"
      ],
      "execution_count": null,
      "outputs": []
    },
    {
      "cell_type": "code",
      "metadata": {
        "id": "EFB8ngHgTjFA"
      },
      "source": [
        "df_by_salary = df[\"Q006\"].unique()\n",
        "df_by_salary.sort()\n",
        "\n",
        "plot_with_x_q006(\n",
        "    \"NU_NOTA_MT\", \n",
        "    \"Boxplot das notas de matemática pela renda ordenada\",\n",
        "    df_by_salary\n",
        "  )"
      ],
      "execution_count": null,
      "outputs": []
    },
    {
      "cell_type": "code",
      "metadata": {
        "id": "cAiEB_zMVq5r"
      },
      "source": [
        "df[\"NU_NOTA_TOTAL\"] = df[subjects].sum(axis=1)\n",
        "\n",
        "df_by_salary = df[\"Q006\"].unique()\n",
        "df_by_salary.sort()\n",
        "\n",
        "plot_with_x_q006(\n",
        "    \"NU_NOTA_TOTAL\", \n",
        "    \"Boxplot das notas somadas pela renda\",\n",
        "    df_by_salary\n",
        "  )"
      ],
      "execution_count": null,
      "outputs": []
    },
    {
      "cell_type": "code",
      "metadata": {
        "id": "wzxDCymGZXxa"
      },
      "source": [
        "df[\"NU_NOTA_MEDIA\"] = df[subjects].mean(axis=1)\n",
        "\n",
        "df_by_salary = df[\"Q006\"].unique()\n",
        "df_by_salary.sort()\n",
        "\n",
        "plot_with_x_q006(\n",
        "    \"NU_NOTA_MEDIA\", \n",
        "    \"Boxplot das notas somadas pela renda\",\n",
        "    df_by_salary\n",
        "  )"
      ],
      "execution_count": null,
      "outputs": []
    },
    {
      "cell_type": "code",
      "metadata": {
        "id": "o1aEY8LyZpuf"
      },
      "source": [
        "sns.displot(df, x=\"NU_NOTA_TOTAL\")"
      ],
      "execution_count": null,
      "outputs": []
    },
    {
      "cell_type": "code",
      "metadata": {
        "id": "j5yqTn1NZzs4"
      },
      "source": [
        "sns.displot(df, x=\"NU_NOTA_MEDIA\")"
      ],
      "execution_count": null,
      "outputs": []
    },
    {
      "cell_type": "code",
      "metadata": {
        "id": "CNHSZm9caM6I"
      },
      "source": [
        "subjects.append(\"NU_NOTA_TOTAL\")\n",
        "subjects.append(\"NU_NOTA_MEDIA\")\n",
        "\n",
        "df.query(\"NU_NOTA_TOTAL == 0\")[subjects]"
      ],
      "execution_count": null,
      "outputs": []
    }
  ]
}